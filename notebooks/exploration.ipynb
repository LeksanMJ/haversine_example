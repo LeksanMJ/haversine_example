{
 "cells": [
  {
   "cell_type": "markdown",
   "metadata": {},
   "source": [
    "GOAL\n",
    "- Find the coordinates of two addresses\n",
    "- compute the haversine distance"
   ]
  },
  {
   "cell_type": "code",
   "execution_count": 2,
   "metadata": {},
   "outputs": [],
   "source": [
    "import requests \n",
    "URL = \"https://api-adresse.data.gouv.fr/search/?q=\"\n",
    "ADDRESS = \"31 avenue du Granier, 38240, Meylan\"\n",
    "r = requests.get(URL + ADDRESS)"
   ]
  },
  {
   "cell_type": "code",
   "execution_count": 3,
   "metadata": {},
   "outputs": [
    {
     "data": {
      "text/plain": [
       "[45.210283, 5.785322]"
      ]
     },
     "execution_count": 3,
     "metadata": {},
     "output_type": "execute_result"
    }
   ],
   "source": [
    "r.json()['features'][0]['geometry']['coordinates'][::-1] # [0] we go from the listo to the dictionary and we can work with it"
   ]
  },
  {
   "cell_type": "code",
   "execution_count": 4,
   "metadata": {},
   "outputs": [
    {
     "data": {
      "text/plain": [
       "[45.186583, 5.71178]"
      ]
     },
     "execution_count": 4,
     "metadata": {},
     "output_type": "execute_result"
    }
   ],
   "source": [
    "def get_coordinates(address: str) -> list:\n",
    "    URL = \"https://api-adresse.data.gouv.fr/search/?q=\"\n",
    "    r = requests.get(URL + address)\n",
    "    return r.json()['features'][0]['geometry']['coordinates'][::-1]\n",
    "\n",
    "get_coordinates(\" 7 Rue Henri Le Chatelier, Grenoble\")\n",
    "     "
   ]
  },
  {
   "cell_type": "code",
   "execution_count": 9,
   "metadata": {},
   "outputs": [
    {
     "data": {
      "text/plain": [
       "6.3"
      ]
     },
     "execution_count": 9,
     "metadata": {},
     "output_type": "execute_result"
    }
   ],
   "source": [
    "from haversine import haversine, Unit\n",
    "\n",
    "ATP = (45.210283, 5.785322) \n",
    "Home = (45.186583, 5.71178)\n",
    "\n",
    "round (haversine(ATP, Home),1)\n"
   ]
  }
 ],
 "metadata": {
  "kernelspec": {
   "display_name": "Python 3",
   "language": "python",
   "name": "python3"
  },
  "language_info": {
   "codemirror_mode": {
    "name": "ipython",
    "version": 3
   },
   "file_extension": ".py",
   "mimetype": "text/x-python",
   "name": "python",
   "nbconvert_exporter": "python",
   "pygments_lexer": "ipython3",
   "version": "3.11.7"
  }
 },
 "nbformat": 4,
 "nbformat_minor": 2
}
